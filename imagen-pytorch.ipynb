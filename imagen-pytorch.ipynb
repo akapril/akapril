{
 "cells": [
  {
   "cell_type": "code",
   "execution_count": 1,
   "id": "3c967861",
   "metadata": {
    "execution": {
     "iopub.execute_input": "2022-11-27T06:29:35.747759Z",
     "iopub.status.busy": "2022-11-27T06:29:35.747041Z",
     "iopub.status.idle": "2022-11-27T06:29:47.204876Z",
     "shell.execute_reply": "2022-11-27T06:29:47.203685Z"
    },
    "papermill": {
     "duration": 11.466317,
     "end_time": "2022-11-27T06:29:47.207559",
     "exception": false,
     "start_time": "2022-11-27T06:29:35.741242",
     "status": "completed"
    },
    "tags": []
   },
   "outputs": [
    {
     "name": "stdout",
     "output_type": "stream",
     "text": [
      "\r\n",
      "\r\n",
      "\r\n",
      "The following additional packages will be installed:\r\n",
      "  libpython3.9-minimal libpython3.9-stdlib python3.9-minimal\r\n",
      "Suggested packages:\r\n",
      "  python3.9-venv python3.9-doc binfmt-support\r\n",
      "The following NEW packages will be installed:\r\n",
      "  libpython3.9-minimal libpython3.9-stdlib python3.9 python3.9-minimal\r\n",
      "0 upgraded, 4 newly installed, 0 to remove and 93 not upgraded.\r\n",
      "Need to get 4979 kB of archives.\r\n",
      "After this operation, 19.9 MB of additional disk space will be used.\r\n",
      "Get:1 http://archive.ubuntu.com/ubuntu focal-updates/universe amd64 libpython3.9-minimal amd64 3.9.5-3ubuntu0~20.04.1 [756 kB]\r\n",
      "Get:2 http://archive.ubuntu.com/ubuntu focal-updates/universe amd64 python3.9-minimal amd64 3.9.5-3ubuntu0~20.04.1 [2022 kB]\r\n",
      "Get:3 http://archive.ubuntu.com/ubuntu focal-updates/universe amd64 libpython3.9-stdlib amd64 3.9.5-3ubuntu0~20.04.1 [1778 kB]\r\n",
      "Get:4 http://archive.ubuntu.com/ubuntu focal-updates/universe amd64 python3.9 amd64 3.9.5-3ubuntu0~20.04.1 [423 kB]\r\n",
      "Fetched 4979 kB in 1s (3415 kB/s)\r\n",
      "Selecting previously unselected package libpython3.9-minimal:amd64.\r\n",
      "(Reading database ... 108827 files and directories currently installed.)\r\n",
      "Preparing to unpack .../libpython3.9-minimal_3.9.5-3ubuntu0~20.04.1_amd64.deb ...\r\n",
      "Unpacking libpython3.9-minimal:amd64 (3.9.5-3ubuntu0~20.04.1) ...\r\n",
      "Selecting previously unselected package python3.9-minimal.\r\n",
      "Preparing to unpack .../python3.9-minimal_3.9.5-3ubuntu0~20.04.1_amd64.deb ...\r\n",
      "Unpacking python3.9-minimal (3.9.5-3ubuntu0~20.04.1) ...\r\n",
      "Selecting previously unselected package libpython3.9-stdlib:amd64.\r\n",
      "Preparing to unpack .../libpython3.9-stdlib_3.9.5-3ubuntu0~20.04.1_amd64.deb ...\r\n",
      "Unpacking libpython3.9-stdlib:amd64 (3.9.5-3ubuntu0~20.04.1) ...\r\n",
      "Selecting previously unselected package python3.9.\r\n",
      "Preparing to unpack .../python3.9_3.9.5-3ubuntu0~20.04.1_amd64.deb ...\r\n",
      "Unpacking python3.9 (3.9.5-3ubuntu0~20.04.1) ...\r\n",
      "Setting up libpython3.9-minimal:amd64 (3.9.5-3ubuntu0~20.04.1) ...\r\n",
      "Setting up python3.9-minimal (3.9.5-3ubuntu0~20.04.1) ...\r\n",
      "Setting up libpython3.9-stdlib:amd64 (3.9.5-3ubuntu0~20.04.1) ...\r\n",
      "Setting up python3.9 (3.9.5-3ubuntu0~20.04.1) ...\r\n",
      "Processing triggers for man-db (2.9.1-1) ...\r\n",
      "Processing triggers for mime-support (3.64ubuntu1) ...\r\n"
     ]
    }
   ],
   "source": [
    "!apt-get install python3.9 -y"
   ]
  },
  {
   "cell_type": "code",
   "execution_count": 2,
   "id": "3c1b8d1b",
   "metadata": {
    "execution": {
     "iopub.execute_input": "2022-11-27T06:29:47.222076Z",
     "iopub.status.busy": "2022-11-27T06:29:47.220384Z",
     "iopub.status.idle": "2022-11-27T06:29:48.187024Z",
     "shell.execute_reply": "2022-11-27T06:29:48.185828Z"
    },
    "papermill": {
     "duration": 0.975769,
     "end_time": "2022-11-27T06:29:48.189451",
     "exception": false,
     "start_time": "2022-11-27T06:29:47.213682",
     "status": "completed"
    },
    "tags": []
   },
   "outputs": [
    {
     "name": "stdout",
     "output_type": "stream",
     "text": [
      "Python 3.9.5\r\n"
     ]
    }
   ],
   "source": [
    "!/usr/bin/python3.9 --version"
   ]
  },
  {
   "cell_type": "code",
   "execution_count": 3,
   "id": "29ea3cd7",
   "metadata": {
    "execution": {
     "iopub.execute_input": "2022-11-27T06:29:48.202576Z",
     "iopub.status.busy": "2022-11-27T06:29:48.202253Z",
     "iopub.status.idle": "2022-11-27T06:31:39.007213Z",
     "shell.execute_reply": "2022-11-27T06:31:39.006003Z"
    },
    "papermill": {
     "duration": 110.81447,
     "end_time": "2022-11-27T06:31:39.009773",
     "exception": false,
     "start_time": "2022-11-27T06:29:48.195303",
     "status": "completed"
    },
    "tags": []
   },
   "outputs": [
    {
     "name": "stdout",
     "output_type": "stream",
     "text": [
      "Collecting minimagen\r\n",
      "  Downloading minimagen-0.0.9-py3-none-any.whl (43 kB)\r\n",
      "\u001b[K     |████████████████████████████████| 43 kB 613 kB/s \r\n",
      "\u001b[?25hCollecting tdqm==0.0.1\r\n",
      "  Downloading tdqm-0.0.1.tar.gz (1.4 kB)\r\n",
      "Collecting tqdm==4.64.0\r\n",
      "  Downloading tqdm-4.64.0-py2.py3-none-any.whl (78 kB)\r\n",
      "\u001b[K     |████████████████████████████████| 78 kB 2.0 MB/s \r\n",
      "\u001b[?25hCollecting urllib3==1.26.10\r\n",
      "  Downloading urllib3-1.26.10-py2.py3-none-any.whl (139 kB)\r\n",
      "\u001b[K     |████████████████████████████████| 139 kB 10.6 MB/s \r\n",
      "\u001b[?25hCollecting einops-exts==0.0.3\r\n",
      "  Downloading einops_exts-0.0.3-py3-none-any.whl (3.8 kB)\r\n",
      "Collecting charset-normalizer==2.1.0\r\n",
      "  Downloading charset_normalizer-2.1.0-py3-none-any.whl (39 kB)\r\n",
      "Collecting frozenlist==1.3.0\r\n",
      "  Downloading frozenlist-1.3.0-cp39-cp39-manylinux_2_5_x86_64.manylinux1_x86_64.manylinux_2_17_x86_64.manylinux2014_x86_64.whl (156 kB)\r\n",
      "\u001b[K     |████████████████████████████████| 156 kB 31.0 MB/s \r\n",
      "\u001b[?25hCollecting einops==0.4.1\r\n",
      "  Downloading einops-0.4.1-py3-none-any.whl (28 kB)\r\n",
      "Collecting dill==0.3.5.1\r\n",
      "  Downloading dill-0.3.5.1-py2.py3-none-any.whl (95 kB)\r\n",
      "\u001b[K     |████████████████████████████████| 95 kB 4.0 MB/s \r\n",
      "\u001b[?25hCollecting pytz==2022.1\r\n",
      "  Downloading pytz-2022.1-py2.py3-none-any.whl (503 kB)\r\n",
      "\u001b[K     |████████████████████████████████| 503 kB 31.4 MB/s \r\n",
      "\u001b[?25hCollecting typing-extensions==4.3.0\r\n",
      "  Downloading typing_extensions-4.3.0-py3-none-any.whl (25 kB)\r\n",
      "Collecting datasets==2.3.2\r\n",
      "  Downloading datasets-2.3.2-py3-none-any.whl (362 kB)\r\n",
      "\u001b[K     |████████████████████████████████| 362 kB 52.6 MB/s \r\n",
      "\u001b[?25hCollecting attrs==21.4.0\r\n",
      "  Downloading attrs-21.4.0-py2.py3-none-any.whl (60 kB)\r\n",
      "\u001b[K     |████████████████████████████████| 60 kB 6.4 MB/s \r\n",
      "\u001b[?25hCollecting aiosignal==1.2.0\r\n",
      "  Downloading aiosignal-1.2.0-py3-none-any.whl (8.2 kB)\r\n",
      "Collecting fsspec==2022.5.0\r\n",
      "  Downloading fsspec-2022.5.0-py3-none-any.whl (140 kB)\r\n",
      "\u001b[K     |████████████████████████████████| 140 kB 64.6 MB/s \r\n",
      "\u001b[?25hCollecting pyparsing==3.0.9\r\n",
      "  Downloading pyparsing-3.0.9-py3-none-any.whl (98 kB)\r\n",
      "\u001b[K     |████████████████████████████████| 98 kB 4.9 MB/s \r\n",
      "\u001b[?25hCollecting pandas==1.4.3\r\n",
      "  Downloading pandas-1.4.3-cp39-cp39-manylinux_2_17_x86_64.manylinux2014_x86_64.whl (11.7 MB)\r\n",
      "\u001b[K     |████████████████████████████████| 11.7 MB 52.6 MB/s \r\n",
      "\u001b[?25hCollecting torchvision==0.13.0\r\n",
      "  Downloading torchvision-0.13.0-cp39-cp39-manylinux1_x86_64.whl (19.1 MB)\r\n",
      "\u001b[K     |████████████████████████████████| 19.1 MB 61.0 MB/s \r\n",
      "\u001b[?25hCollecting multidict==6.0.2\r\n",
      "  Downloading multidict-6.0.2-cp39-cp39-manylinux_2_17_x86_64.manylinux2014_x86_64.whl (114 kB)\r\n",
      "\u001b[K     |████████████████████████████████| 114 kB 57.2 MB/s \r\n",
      "\u001b[?25hCollecting future==0.18.2\r\n",
      "  Downloading future-0.18.2.tar.gz (829 kB)\r\n",
      "\u001b[K     |████████████████████████████████| 829 kB 55.3 MB/s \r\n",
      "\u001b[?25hCollecting regex==2022.7.9\r\n",
      "  Downloading regex-2022.7.9-cp39-cp39-manylinux_2_17_x86_64.manylinux2014_x86_64.whl (763 kB)\r\n",
      "\u001b[K     |████████████████████████████████| 763 kB 56.4 MB/s \r\n",
      "\u001b[?25hCollecting xxhash==3.0.0\r\n",
      "  Downloading xxhash-3.0.0-cp39-cp39-manylinux_2_17_x86_64.manylinux2014_x86_64.whl (211 kB)\r\n",
      "\u001b[K     |████████████████████████████████| 211 kB 59.6 MB/s \r\n",
      "\u001b[?25hCollecting multiprocess==0.70.13\r\n",
      "  Downloading multiprocess-0.70.13-py39-none-any.whl (132 kB)\r\n",
      "\u001b[K     |████████████████████████████████| 132 kB 67.6 MB/s \r\n",
      "\u001b[?25hCollecting numpy==1.23.1\r\n",
      "  Downloading numpy-1.23.1-cp39-cp39-manylinux_2_17_x86_64.manylinux2014_x86_64.whl (17.1 MB)\r\n",
      "\u001b[K     |████████████████████████████████| 17.1 MB 47.8 MB/s \r\n",
      "\u001b[?25hCollecting yarl==1.7.2\r\n",
      "  Downloading yarl-1.7.2-cp39-cp39-manylinux_2_5_x86_64.manylinux1_x86_64.manylinux_2_12_x86_64.manylinux2010_x86_64.whl (304 kB)\r\n",
      "\u001b[K     |████████████████████████████████| 304 kB 55.1 MB/s \r\n",
      "\u001b[?25hCollecting filelock==3.7.1\r\n",
      "  Downloading filelock-3.7.1-py3-none-any.whl (10 kB)\r\n",
      "Collecting transformers==4.20.1\r\n",
      "  Downloading transformers-4.20.1-py3-none-any.whl (4.4 MB)\r\n",
      "\u001b[K     |████████████████████████████████| 4.4 MB 36.0 MB/s \r\n",
      "\u001b[?25hCollecting python-dateutil==2.8.2\r\n",
      "  Downloading python_dateutil-2.8.2-py2.py3-none-any.whl (247 kB)\r\n",
      "\u001b[K     |████████████████████████████████| 247 kB 60.7 MB/s \r\n",
      "\u001b[?25hCollecting six==1.16.0\r\n",
      "  Downloading six-1.16.0-py2.py3-none-any.whl (11 kB)\r\n",
      "Collecting async-timeout==4.0.2\r\n",
      "  Downloading async_timeout-4.0.2-py3-none-any.whl (5.8 kB)\r\n",
      "Collecting PyYAML==6.0\r\n",
      "  Downloading PyYAML-6.0-cp39-cp39-manylinux_2_5_x86_64.manylinux1_x86_64.manylinux_2_12_x86_64.manylinux2010_x86_64.whl (661 kB)\r\n",
      "\u001b[K     |████████████████████████████████| 661 kB 59.9 MB/s \r\n",
      "\u001b[?25hCollecting aiohttp==3.8.1\r\n",
      "  Downloading aiohttp-3.8.1-cp39-cp39-manylinux_2_5_x86_64.manylinux1_x86_64.manylinux_2_12_x86_64.manylinux2010_x86_64.whl (1.2 MB)\r\n",
      "\u001b[K     |████████████████████████████████| 1.2 MB 48.2 MB/s \r\n",
      "\u001b[?25hCollecting resize-right==0.0.2\r\n",
      "  Downloading resize_right-0.0.2-py3-none-any.whl (8.9 kB)\r\n",
      "Collecting certifi==2022.6.15\r\n",
      "  Downloading certifi-2022.6.15-py3-none-any.whl (160 kB)\r\n",
      "\u001b[K     |████████████████████████████████| 160 kB 62.4 MB/s \r\n",
      "\u001b[?25hCollecting Pillow==9.2.0\r\n",
      "  Downloading Pillow-9.2.0-cp39-cp39-manylinux_2_17_x86_64.manylinux2014_x86_64.whl (3.1 MB)\r\n",
      "\u001b[K     |████████████████████████████████| 3.1 MB 46.9 MB/s \r\n",
      "\u001b[?25hCollecting tokenizers==0.12.1\r\n",
      "  Downloading tokenizers-0.12.1-cp39-cp39-manylinux_2_12_x86_64.manylinux2010_x86_64.whl (6.6 MB)\r\n",
      "\u001b[K     |████████████████████████████████| 6.6 MB 52.5 MB/s \r\n",
      "\u001b[?25hCollecting packaging==21.3\r\n",
      "  Downloading packaging-21.3-py3-none-any.whl (40 kB)\r\n",
      "\u001b[K     |████████████████████████████████| 40 kB 5.1 MB/s \r\n",
      "\u001b[?25hCollecting huggingface-hub==0.8.1\r\n",
      "  Downloading huggingface_hub-0.8.1-py3-none-any.whl (101 kB)\r\n",
      "\u001b[K     |████████████████████████████████| 101 kB 10.7 MB/s \r\n",
      "\u001b[?25hCollecting pyarrow==8.0.0\r\n",
      "  Downloading pyarrow-8.0.0-cp39-cp39-manylinux_2_17_x86_64.manylinux2014_x86_64.whl (29.4 MB)\r\n",
      "\u001b[K     |████████████████████████████████| 29.4 MB 45.7 MB/s \r\n",
      "\u001b[?25hCollecting torch==1.12.0\r\n",
      "  Downloading torch-1.12.0-cp39-cp39-manylinux1_x86_64.whl (776.3 MB)\r\n",
      "\u001b[K     |████████████████████████████████| 776.3 MB 5.0 kB/s \r\n",
      "\u001b[?25hCollecting sentencepiece==0.1.96\r\n",
      "  Downloading sentencepiece-0.1.96-cp39-cp39-manylinux_2_17_x86_64.manylinux2014_x86_64.whl (1.2 MB)\r\n",
      "\u001b[K     |████████████████████████████████| 1.2 MB 10.6 MB/s \r\n",
      "\u001b[?25hCollecting responses==0.18.0\r\n",
      "  Downloading responses-0.18.0-py3-none-any.whl (38 kB)\r\n",
      "Collecting colorama==0.4.5\r\n",
      "  Downloading colorama-0.4.5-py2.py3-none-any.whl (16 kB)\r\n",
      "Collecting requests==2.28.1\r\n",
      "  Downloading requests-2.28.1-py3-none-any.whl (62 kB)\r\n",
      "\u001b[K     |████████████████████████████████| 62 kB 1.2 MB/s \r\n",
      "\u001b[?25hCollecting idna==3.3\r\n",
      "  Downloading idna-3.3-py3-none-any.whl (61 kB)\r\n",
      "\u001b[K     |████████████████████████████████| 61 kB 6.7 MB/s \r\n",
      "\u001b[?25hBuilding wheels for collected packages: tdqm, future\r\n",
      "  Building wheel for tdqm (setup.py) ... \u001b[?25l-\b \bdone\r\n",
      "\u001b[?25h  Created wheel for tdqm: filename=tdqm-0.0.1-py3-none-any.whl size=1320 sha256=af3c754187680ac9a96b0ef8f5a7ceb89a429460aeb38ae26f8435cd333471c8\r\n",
      "  Stored in directory: /root/.cache/pip/wheels/cf/cf/87/969aabe5f7efa9beb7f0de846653f5cbf36bafe358451132df\r\n",
      "  Building wheel for future (setup.py) ... \u001b[?25l-\b \b\\\b \b|\b \bdone\r\n",
      "\u001b[?25h  Created wheel for future: filename=future-0.18.2-py3-none-any.whl size=491058 sha256=ce0b1d61a94b12ef7191d963c0c8dea023231849d4095e29b1a74c51eb12d209\r\n",
      "  Stored in directory: /root/.cache/pip/wheels/2f/a0/d3/4030d9f80e6b3be787f19fc911b8e7aa462986a40ab1e4bb94\r\n",
      "Successfully built tdqm future\r\n",
      "Installing collected packages: tqdm, tdqm, urllib3, einops, einops-exts, charset-normalizer, frozenlist, dill, pytz, typing-extensions, fsspec, attrs, aiosignal, multidict, async-timeout, idna, yarl, aiohttp, certifi, requests, xxhash, numpy, pyarrow, PyYAML, pyparsing, packaging, filelock, huggingface-hub, multiprocess, responses, six, python-dateutil, pandas, datasets, Pillow, torch, torchvision, future, regex, tokenizers, transformers, resize-right, sentencepiece, colorama, minimagen\r\n",
      "  Attempting uninstall: urllib3\r\n",
      "    Found existing installation: urllib3 1.25.8\r\n",
      "    Uninstalling urllib3-1.25.8:\r\n",
      "      Successfully uninstalled urllib3-1.25.8\r\n",
      "  Attempting uninstall: idna\r\n",
      "    Found existing installation: idna 2.8\r\n",
      "    Uninstalling idna-2.8:\r\n",
      "      Successfully uninstalled idna-2.8\r\n",
      "  Attempting uninstall: certifi\r\n",
      "    Found existing installation: certifi 2019.11.28\r\n",
      "    Uninstalling certifi-2019.11.28:\r\n",
      "      Successfully uninstalled certifi-2019.11.28\r\n",
      "  Attempting uninstall: requests\r\n",
      "    Found existing installation: requests 2.22.0\r\n",
      "    Uninstalling requests-2.22.0:\r\n",
      "      Successfully uninstalled requests-2.22.0\r\n",
      "  Attempting uninstall: six\r\n",
      "    Found existing installation: six 1.14.0\r\n",
      "    Uninstalling six-1.14.0:\r\n",
      "      Successfully uninstalled six-1.14.0\r\n",
      "Successfully installed Pillow-9.2.0 PyYAML-6.0 aiohttp-3.8.1 aiosignal-1.2.0 async-timeout-4.0.2 attrs-21.4.0 certifi-2022.6.15 charset-normalizer-2.1.0 colorama-0.4.5 datasets-2.3.2 dill-0.3.5.1 einops-0.4.1 einops-exts-0.0.3 filelock-3.7.1 frozenlist-1.3.0 fsspec-2022.5.0 future-0.18.2 huggingface-hub-0.8.1 idna-3.3 minimagen-0.0.9 multidict-6.0.2 multiprocess-0.70.13 numpy-1.23.1 packaging-21.3 pandas-1.4.3 pyarrow-8.0.0 pyparsing-3.0.9 python-dateutil-2.8.2 pytz-2022.1 regex-2022.7.9 requests-2.28.1 resize-right-0.0.2 responses-0.18.0 sentencepiece-0.1.96 six-1.16.0 tdqm-0.0.1 tokenizers-0.12.1 torch-1.12.0 torchvision-0.13.0 tqdm-4.64.0 transformers-4.20.1 typing-extensions-4.3.0 urllib3-1.26.10 xxhash-3.0.0 yarl-1.7.2\r\n"
     ]
    }
   ],
   "source": [
    "!/usr/bin/python3.9 -m pip install minimagen"
   ]
  },
  {
   "cell_type": "code",
   "execution_count": 4,
   "id": "e5e062dc",
   "metadata": {
    "execution": {
     "iopub.execute_input": "2022-11-27T06:31:39.371612Z",
     "iopub.status.busy": "2022-11-27T06:31:39.370146Z",
     "iopub.status.idle": "2022-11-27T06:31:42.376849Z",
     "shell.execute_reply": "2022-11-27T06:31:42.375582Z"
    },
    "papermill": {
     "duration": 3.189751,
     "end_time": "2022-11-27T06:31:42.379369",
     "exception": false,
     "start_time": "2022-11-27T06:31:39.189618",
     "status": "completed"
    },
    "tags": []
   },
   "outputs": [
    {
     "name": "stdout",
     "output_type": "stream",
     "text": [
      "Collecting sentencepiece\r\n",
      "  Downloading sentencepiece-0.1.97-cp39-cp39-manylinux_2_17_x86_64.manylinux2014_x86_64.whl (1.3 MB)\r\n",
      "\u001b[K     |████████████████████████████████| 1.3 MB 2.2 MB/s \r\n",
      "\u001b[?25hInstalling collected packages: sentencepiece\r\n",
      "Successfully installed sentencepiece-0.1.97\r\n"
     ]
    }
   ],
   "source": [
    "!/usr/bin/python3.9 -m pip install sentencepiece\n"
   ]
  },
  {
   "cell_type": "code",
   "execution_count": 5,
   "id": "31320178",
   "metadata": {
    "execution": {
     "iopub.execute_input": "2022-11-27T06:31:42.731383Z",
     "iopub.status.busy": "2022-11-27T06:31:42.730366Z",
     "iopub.status.idle": "2022-11-27T06:31:44.860550Z",
     "shell.execute_reply": "2022-11-27T06:31:44.859262Z"
    },
    "papermill": {
     "duration": 2.301146,
     "end_time": "2022-11-27T06:31:44.863060",
     "exception": false,
     "start_time": "2022-11-27T06:31:42.561914",
     "status": "completed"
    },
    "tags": []
   },
   "outputs": [
    {
     "name": "stdout",
     "output_type": "stream",
     "text": [
      "python3: /usr/bin/python3.9 /usr/bin/python3.8 /usr/bin/python3 /usr/lib/python3 /usr/lib/python3.9 /usr/lib/python3.8 /etc/python3.9 /etc/python3.8 /etc/python3 /usr/local/lib/python3.9 /usr/local/lib/python3.8 /usr/share/python3 /opt/conda/bin/python3.7 /opt/conda/bin/python3.7m /opt/conda/bin/python3 /opt/conda/bin/python3.7m-config /opt/conda/bin/python3.7-config\r\n",
      "total 4\r\n",
      "drwxr-xr-x 2 root root 4096 Nov 27 06:29 dist-packages\r\n"
     ]
    }
   ],
   "source": [
    "!whereis python3.9\n",
    "!ls -l /usr/local/lib/python3.9"
   ]
  },
  {
   "cell_type": "code",
   "execution_count": 6,
   "id": "46b54e0b",
   "metadata": {
    "execution": {
     "iopub.execute_input": "2022-11-27T06:31:45.355752Z",
     "iopub.status.busy": "2022-11-27T06:31:45.355266Z",
     "iopub.status.idle": "2022-11-27T06:33:36.058844Z",
     "shell.execute_reply": "2022-11-27T06:33:36.057656Z"
    },
    "papermill": {
     "duration": 110.968795,
     "end_time": "2022-11-27T06:33:36.061456",
     "exception": false,
     "start_time": "2022-11-27T06:31:45.092661",
     "status": "completed"
    },
    "tags": []
   },
   "outputs": [
    {
     "name": "stdout",
     "output_type": "stream",
     "text": [
      "Collecting minimagen\r\n",
      "  Using cached minimagen-0.0.9-py3-none-any.whl (43 kB)\r\n",
      "Collecting colorama==0.4.5\r\n",
      "  Using cached colorama-0.4.5-py2.py3-none-any.whl (16 kB)\r\n",
      "Collecting async-timeout==4.0.2\r\n",
      "  Using cached async_timeout-4.0.2-py3-none-any.whl (5.8 kB)\r\n",
      "Collecting pyparsing==3.0.9\r\n",
      "  Using cached pyparsing-3.0.9-py3-none-any.whl (98 kB)\r\n",
      "Collecting python-dateutil==2.8.2\r\n",
      "  Using cached python_dateutil-2.8.2-py2.py3-none-any.whl (247 kB)\r\n",
      "Collecting certifi==2022.6.15\r\n",
      "  Using cached certifi-2022.6.15-py3-none-any.whl (160 kB)\r\n",
      "Collecting charset-normalizer==2.1.0\r\n",
      "  Using cached charset_normalizer-2.1.0-py3-none-any.whl (39 kB)\r\n",
      "Collecting huggingface-hub==0.8.1\r\n",
      "  Using cached huggingface_hub-0.8.1-py3-none-any.whl (101 kB)\r\n",
      "Collecting numpy==1.23.1\r\n",
      "  Downloading numpy-1.23.1-cp38-cp38-manylinux_2_17_x86_64.manylinux2014_x86_64.whl (17.1 MB)\r\n",
      "\u001b[K     |████████████████████████████████| 17.1 MB 2.3 MB/s \r\n",
      "\u001b[?25hCollecting multiprocess==0.70.13\r\n",
      "  Downloading multiprocess-0.70.13-py38-none-any.whl (131 kB)\r\n",
      "\u001b[K     |████████████████████████████████| 131 kB 59.5 MB/s \r\n",
      "\u001b[?25hCollecting filelock==3.7.1\r\n",
      "  Using cached filelock-3.7.1-py3-none-any.whl (10 kB)\r\n",
      "Collecting attrs==21.4.0\r\n",
      "  Using cached attrs-21.4.0-py2.py3-none-any.whl (60 kB)\r\n",
      "Collecting idna==3.3\r\n",
      "  Using cached idna-3.3-py3-none-any.whl (61 kB)\r\n",
      "Collecting future==0.18.2\r\n",
      "  Using cached future-0.18.2.tar.gz (829 kB)\r\n",
      "Collecting sentencepiece==0.1.96\r\n",
      "  Downloading sentencepiece-0.1.96-cp38-cp38-manylinux_2_17_x86_64.manylinux2014_x86_64.whl (1.2 MB)\r\n",
      "\u001b[K     |████████████████████████████████| 1.2 MB 53.6 MB/s \r\n",
      "\u001b[?25hCollecting regex==2022.7.9\r\n",
      "  Downloading regex-2022.7.9-cp38-cp38-manylinux_2_17_x86_64.manylinux2014_x86_64.whl (765 kB)\r\n",
      "\u001b[K     |████████████████████████████████| 765 kB 55.6 MB/s \r\n",
      "\u001b[?25hCollecting tdqm==0.0.1\r\n",
      "  Using cached tdqm-0.0.1.tar.gz (1.4 kB)\r\n",
      "Collecting tokenizers==0.12.1\r\n",
      "  Downloading tokenizers-0.12.1-cp38-cp38-manylinux_2_12_x86_64.manylinux2010_x86_64.whl (6.6 MB)\r\n",
      "\u001b[K     |████████████████████████████████| 6.6 MB 31.8 MB/s \r\n",
      "\u001b[?25hCollecting yarl==1.7.2\r\n",
      "  Downloading yarl-1.7.2-cp38-cp38-manylinux_2_5_x86_64.manylinux1_x86_64.manylinux_2_12_x86_64.manylinux2010_x86_64.whl (308 kB)\r\n",
      "\u001b[K     |████████████████████████████████| 308 kB 65.5 MB/s \r\n",
      "\u001b[?25hCollecting datasets==2.3.2\r\n",
      "  Using cached datasets-2.3.2-py3-none-any.whl (362 kB)\r\n",
      "Collecting packaging==21.3\r\n",
      "  Using cached packaging-21.3-py3-none-any.whl (40 kB)\r\n",
      "Collecting dill==0.3.5.1\r\n",
      "  Using cached dill-0.3.5.1-py2.py3-none-any.whl (95 kB)\r\n",
      "Collecting aiosignal==1.2.0\r\n",
      "  Using cached aiosignal-1.2.0-py3-none-any.whl (8.2 kB)\r\n",
      "Collecting typing-extensions==4.3.0\r\n",
      "  Using cached typing_extensions-4.3.0-py3-none-any.whl (25 kB)\r\n",
      "Collecting frozenlist==1.3.0\r\n",
      "  Downloading frozenlist-1.3.0-cp38-cp38-manylinux_2_5_x86_64.manylinux1_x86_64.manylinux_2_17_x86_64.manylinux2014_x86_64.whl (158 kB)\r\n",
      "\u001b[K     |████████████████████████████████| 158 kB 28.4 MB/s \r\n",
      "\u001b[?25hCollecting xxhash==3.0.0\r\n",
      "  Downloading xxhash-3.0.0-cp38-cp38-manylinux_2_17_x86_64.manylinux2014_x86_64.whl (212 kB)\r\n",
      "\u001b[K     |████████████████████████████████| 212 kB 39.2 MB/s \r\n",
      "\u001b[?25hCollecting aiohttp==3.8.1\r\n",
      "  Downloading aiohttp-3.8.1-cp38-cp38-manylinux_2_5_x86_64.manylinux1_x86_64.manylinux_2_12_x86_64.manylinux2010_x86_64.whl (1.3 MB)\r\n",
      "\u001b[K     |████████████████████████████████| 1.3 MB 55.1 MB/s \r\n",
      "\u001b[?25hCollecting torchvision==0.13.0\r\n",
      "  Downloading torchvision-0.13.0-cp38-cp38-manylinux1_x86_64.whl (19.1 MB)\r\n",
      "\u001b[K     |████████████████████████████████| 19.1 MB 25.3 MB/s \r\n",
      "\u001b[?25hCollecting einops==0.4.1\r\n",
      "  Using cached einops-0.4.1-py3-none-any.whl (28 kB)\r\n",
      "Collecting tqdm==4.64.0\r\n",
      "  Using cached tqdm-4.64.0-py2.py3-none-any.whl (78 kB)\r\n",
      "Collecting resize-right==0.0.2\r\n",
      "  Using cached resize_right-0.0.2-py3-none-any.whl (8.9 kB)\r\n",
      "Collecting fsspec==2022.5.0\r\n",
      "  Using cached fsspec-2022.5.0-py3-none-any.whl (140 kB)\r\n",
      "Collecting pandas==1.4.3\r\n",
      "  Downloading pandas-1.4.3-cp38-cp38-manylinux_2_17_x86_64.manylinux2014_x86_64.whl (11.7 MB)\r\n",
      "\u001b[K     |████████████████████████████████| 11.7 MB 44.0 MB/s \r\n",
      "\u001b[?25hCollecting pyarrow==8.0.0\r\n",
      "  Downloading pyarrow-8.0.0-cp38-cp38-manylinux_2_17_x86_64.manylinux2014_x86_64.whl (29.4 MB)\r\n",
      "\u001b[K     |████████████████████████████████| 29.4 MB 28.7 MB/s \r\n",
      "\u001b[?25hCollecting einops-exts==0.0.3\r\n",
      "  Using cached einops_exts-0.0.3-py3-none-any.whl (3.8 kB)\r\n",
      "Collecting multidict==6.0.2\r\n",
      "  Downloading multidict-6.0.2-cp38-cp38-manylinux_2_17_x86_64.manylinux2014_x86_64.whl (121 kB)\r\n",
      "\u001b[K     |████████████████████████████████| 121 kB 55.3 MB/s \r\n",
      "\u001b[?25hCollecting transformers==4.20.1\r\n",
      "  Using cached transformers-4.20.1-py3-none-any.whl (4.4 MB)\r\n",
      "Collecting Pillow==9.2.0\r\n",
      "  Downloading Pillow-9.2.0-cp38-cp38-manylinux_2_17_x86_64.manylinux2014_x86_64.whl (3.1 MB)\r\n",
      "\u001b[K     |████████████████████████████████| 3.1 MB 35.4 MB/s \r\n",
      "\u001b[?25hCollecting urllib3==1.26.10\r\n",
      "  Using cached urllib3-1.26.10-py2.py3-none-any.whl (139 kB)\r\n",
      "Collecting pytz==2022.1\r\n",
      "  Using cached pytz-2022.1-py2.py3-none-any.whl (503 kB)\r\n",
      "Collecting PyYAML==6.0\r\n",
      "  Downloading PyYAML-6.0-cp38-cp38-manylinux_2_5_x86_64.manylinux1_x86_64.manylinux_2_12_x86_64.manylinux2010_x86_64.whl (701 kB)\r\n",
      "\u001b[K     |████████████████████████████████| 701 kB 57.4 MB/s \r\n",
      "\u001b[?25hCollecting responses==0.18.0\r\n",
      "  Using cached responses-0.18.0-py3-none-any.whl (38 kB)\r\n",
      "Collecting torch==1.12.0\r\n",
      "  Downloading torch-1.12.0-cp38-cp38-manylinux1_x86_64.whl (776.3 MB)\r\n",
      "\u001b[K     |████████████████████████████████| 776.3 MB 4.6 kB/s \r\n",
      "\u001b[?25hCollecting requests==2.28.1\r\n",
      "  Using cached requests-2.28.1-py3-none-any.whl (62 kB)\r\n",
      "Collecting six==1.16.0\r\n",
      "  Using cached six-1.16.0-py2.py3-none-any.whl (11 kB)\r\n",
      "Building wheels for collected packages: future, tdqm\r\n",
      "  Building wheel for future (setup.py) ... \u001b[?25l-\b \b\\\b \b|\b \b/\b \bdone\r\n",
      "\u001b[?25h  Created wheel for future: filename=future-0.18.2-py3-none-any.whl size=491058 sha256=27010561c7b3f9f520f79ba55f5d714b9b3701acddce83dde060010f5a069a25\r\n",
      "  Stored in directory: /root/.cache/pip/wheels/8e/70/28/3d6ccd6e315f65f245da085482a2e1c7d14b90b30f239e2cf4\r\n",
      "  Building wheel for tdqm (setup.py) ... \u001b[?25l-\b \bdone\r\n",
      "\u001b[?25h  Created wheel for tdqm: filename=tdqm-0.0.1-py3-none-any.whl size=1320 sha256=5309f0a0cc9d0795b7974250dc37dea0779987aa2e972c5c2b6da9a000a4f9fe\r\n",
      "  Stored in directory: /root/.cache/pip/wheels/86/cd/38/f96ed05dd8049e95d8fbeaa0587664eb001a1848979636b771\r\n",
      "Successfully built future tdqm\r\n",
      "Installing collected packages: colorama, async-timeout, pyparsing, six, python-dateutil, certifi, charset-normalizer, PyYAML, packaging, tqdm, typing-extensions, filelock, urllib3, idna, requests, huggingface-hub, numpy, dill, multiprocess, attrs, future, sentencepiece, regex, tdqm, tokenizers, multidict, yarl, frozenlist, aiosignal, aiohttp, pyarrow, xxhash, responses, fsspec, pytz, pandas, datasets, Pillow, torch, torchvision, einops, resize-right, einops-exts, transformers, minimagen\r\n",
      "Successfully installed Pillow-9.2.0 PyYAML-6.0 aiohttp-3.8.1 aiosignal-1.2.0 async-timeout-4.0.2 attrs-21.4.0 certifi-2022.6.15 charset-normalizer-2.1.0 colorama-0.4.5 datasets-2.3.2 dill-0.3.5.1 einops-0.4.1 einops-exts-0.0.3 filelock-3.7.1 frozenlist-1.3.0 fsspec-2022.5.0 future-0.18.2 huggingface-hub-0.8.1 idna-3.3 minimagen-0.0.9 multidict-6.0.2 multiprocess-0.70.13 numpy-1.23.1 packaging-21.3 pandas-1.4.3 pyarrow-8.0.0 pyparsing-3.0.9 python-dateutil-2.8.2 pytz-2022.1 regex-2022.7.9 requests-2.28.1 resize-right-0.0.2 responses-0.18.0 sentencepiece-0.1.96 six-1.16.0 tdqm-0.0.1 tokenizers-0.12.1 torch-1.12.0 torchvision-0.13.0 tqdm-4.64.0 transformers-4.20.1 typing-extensions-4.3.0 urllib3-1.26.10 xxhash-3.0.0 yarl-1.7.2\r\n",
      "\u001b[31mERROR: Exception:\r\n",
      "Traceback (most recent call last):\r\n",
      "  File \"/usr/lib/python3.8/shutil.py\", line 791, in move\r\n",
      "    os.rename(src, real_dst)\r\n",
      "OSError: [Errno 18] Invalid cross-device link: '/tmp/pip-target-ncb2ev8a/lib/python/future-0.18.2.dist-info' -> '/kaggle/lib/future-0.18.2.dist-info'\r\n",
      "\r\n",
      "During handling of the above exception, another exception occurred:\r\n",
      "\r\n",
      "Traceback (most recent call last):\r\n",
      "  File \"/usr/lib/python3/dist-packages/pip/_internal/cli/base_command.py\", line 186, in _main\r\n",
      "    status = self.run(options, args)\r\n",
      "  File \"/usr/lib/python3/dist-packages/pip/_internal/commands/install.py\", line 479, in run\r\n",
      "    self._handle_target_dir(\r\n",
      "  File \"/usr/lib/python3/dist-packages/pip/_internal/commands/install.py\", line 536, in _handle_target_dir\r\n",
      "    shutil.move(\r\n",
      "  File \"/usr/lib/python3.8/shutil.py\", line 807, in move\r\n",
      "    copytree(src, real_dst, copy_function=copy_function,\r\n",
      "  File \"/usr/lib/python3.8/shutil.py\", line 557, in copytree\r\n",
      "    return _copytree(entries=entries, src=src, dst=dst, symlinks=symlinks,\r\n",
      "  File \"/usr/lib/python3.8/shutil.py\", line 458, in _copytree\r\n",
      "    os.makedirs(dst, exist_ok=dirs_exist_ok)\r\n",
      "  File \"/usr/lib/python3.8/os.py\", line 223, in makedirs\r\n",
      "    mkdir(name, mode)\r\n",
      "OSError: [Errno 30] Read-only file system: '/kaggle/lib/future-0.18.2.dist-info'\u001b[0m\r\n"
     ]
    }
   ],
   "source": [
    "!/usr/bin/pip install minimagen --target=/kaggle/lib"
   ]
  },
  {
   "cell_type": "code",
   "execution_count": 7,
   "id": "557d1024",
   "metadata": {
    "execution": {
     "iopub.execute_input": "2022-11-27T06:33:36.786365Z",
     "iopub.status.busy": "2022-11-27T06:33:36.784946Z",
     "iopub.status.idle": "2022-11-27T06:33:38.740995Z",
     "shell.execute_reply": "2022-11-27T06:33:38.739764Z"
    },
    "papermill": {
     "duration": 2.312429,
     "end_time": "2022-11-27T06:33:38.744103",
     "exception": false,
     "start_time": "2022-11-27T06:33:36.431674",
     "status": "completed"
    },
    "tags": []
   },
   "outputs": [
    {
     "name": "stdout",
     "output_type": "stream",
     "text": [
      "/kaggle/lib/kagglegym:/kaggle/lib\r\n"
     ]
    }
   ],
   "source": [
    "!export PYTHONPATH=$PYTHONPATH:/kaggle/working/Lib/site-packages\n",
    "!echo $PYTHONPATH"
   ]
  },
  {
   "cell_type": "code",
   "execution_count": 8,
   "id": "5b419a5a",
   "metadata": {
    "execution": {
     "iopub.execute_input": "2022-11-27T06:33:39.620633Z",
     "iopub.status.busy": "2022-11-27T06:33:39.620245Z",
     "iopub.status.idle": "2022-11-27T06:33:40.668790Z",
     "shell.execute_reply": "2022-11-27T06:33:40.667616Z"
    },
    "papermill": {
     "duration": 1.422517,
     "end_time": "2022-11-27T06:33:40.671060",
     "exception": false,
     "start_time": "2022-11-27T06:33:39.248543",
     "status": "completed"
    },
    "tags": []
   },
   "outputs": [
    {
     "name": "stdout",
     "output_type": "stream",
     "text": [
      "Traceback (most recent call last):\r\n",
      "  File \"/kaggle/working/../input/minimagen1/train.py\", line 4, in <module>\r\n",
      "    import torch.utils.data\r\n",
      "ModuleNotFoundError: No module named 'torch'\r\n"
     ]
    }
   ],
   "source": [
    "!python3.9 ../input/minimagen1/train.py --PARAMETERS ../input/minimagen1/parameters --BATCH_SIZE 12 --TIMESTEPS 25"
   ]
  },
  {
   "cell_type": "code",
   "execution_count": 9,
   "id": "98490fe3",
   "metadata": {
    "execution": {
     "iopub.execute_input": "2022-11-27T06:33:41.353618Z",
     "iopub.status.busy": "2022-11-27T06:33:41.353002Z",
     "iopub.status.idle": "2022-11-27T06:33:43.158441Z",
     "shell.execute_reply": "2022-11-27T06:33:43.157221Z"
    },
    "papermill": {
     "duration": 2.145928,
     "end_time": "2022-11-27T06:33:43.161061",
     "exception": false,
     "start_time": "2022-11-27T06:33:41.015133",
     "status": "completed"
    },
    "tags": []
   },
   "outputs": [
    {
     "name": "stdout",
     "output_type": "stream",
     "text": [
      "pip 20.0.2 from /usr/lib/python3/dist-packages/pip (python 3.8)\r\n"
     ]
    }
   ],
   "source": [
    "!/usr/bin/pip -V"
   ]
  },
  {
   "cell_type": "code",
   "execution_count": 10,
   "id": "e595cae7",
   "metadata": {
    "execution": {
     "iopub.execute_input": "2022-11-27T06:33:43.868662Z",
     "iopub.status.busy": "2022-11-27T06:33:43.867819Z",
     "iopub.status.idle": "2022-11-27T06:33:45.014710Z",
     "shell.execute_reply": "2022-11-27T06:33:45.013404Z"
    },
    "papermill": {
     "duration": 1.498651,
     "end_time": "2022-11-27T06:33:45.018269",
     "exception": false,
     "start_time": "2022-11-27T06:33:43.519618",
     "status": "completed"
    },
    "tags": []
   },
   "outputs": [
    {
     "name": "stdout",
     "output_type": "stream",
     "text": [
      "PyGObject-3.36.0.egg-info\r\n",
      "__pycache__\r\n",
      "_dbus_bindings.cpython-38-x86_64-linux-gnu.so\r\n",
      "_dbus_glib_bindings.cpython-38-x86_64-linux-gnu.so\r\n",
      "apt\r\n",
      "apt_inst-stubs\r\n",
      "apt_inst.cpython-38-x86_64-linux-gnu.so\r\n",
      "apt_pkg-stubs\r\n",
      "apt_pkg.cpython-38-x86_64-linux-gnu.so\r\n",
      "aptsources\r\n",
      "chardet\r\n",
      "chardet-3.0.4.egg-info\r\n",
      "dbus\r\n",
      "dbus_python-1.2.16.egg-info\r\n",
      "easy_install.py\r\n",
      "gi\r\n",
      "lsb_release.py\r\n",
      "pip\r\n",
      "pip-20.0.2.egg-info\r\n",
      "pkg_resources\r\n",
      "pygtkcompat\r\n",
      "python_apt-2.0.0+ubuntu0.20.4.7.egg-info\r\n",
      "python_snappy-0.5.3.egg-info\r\n",
      "requests_unixsocket\r\n",
      "requests_unixsocket-0.2.0.egg-info\r\n",
      "setuptools\r\n",
      "setuptools-45.2.0.egg-info\r\n",
      "snappy\r\n",
      "softwareproperties\r\n",
      "wheel\r\n",
      "wheel-0.34.2.egg-info\r\n"
     ]
    }
   ],
   "source": [
    "!ls /usr/lib/python3/dist-packages"
   ]
  },
  {
   "cell_type": "code",
   "execution_count": 11,
   "id": "2fbf20a5",
   "metadata": {
    "execution": {
     "iopub.execute_input": "2022-11-27T06:33:45.879002Z",
     "iopub.status.busy": "2022-11-27T06:33:45.877486Z",
     "iopub.status.idle": "2022-11-27T06:33:46.882963Z",
     "shell.execute_reply": "2022-11-27T06:33:46.881463Z"
    },
    "papermill": {
     "duration": 1.356795,
     "end_time": "2022-11-27T06:33:46.885587",
     "exception": false,
     "start_time": "2022-11-27T06:33:45.528792",
     "status": "completed"
    },
    "tags": []
   },
   "outputs": [
    {
     "name": "stdout",
     "output_type": "stream",
     "text": [
      "SHELL=/bin/bash\r\n",
      "NV_LIBCUBLAS_VERSION=11.2.0.252-1\r\n",
      "NVIDIA_VISIBLE_DEVICES=all\r\n",
      "NV_NVML_DEV_VERSION=11.0.167-1\r\n",
      "NV_CUDNN_PACKAGE_NAME=libcudnn8\r\n",
      "NV_LIBNCCL_DEV_PACKAGE=libnccl-dev=2.12.10-1+cuda11.0\r\n",
      "NV_LIBNCCL_DEV_PACKAGE_VERSION=2.12.10-1\r\n",
      "KMP_WARNINGS=0\r\n",
      "CUDA_MINOR_VERSION=0\r\n",
      "HOSTNAME=ba5006a9392e\r\n",
      "DL_ANACONDA_HOME=/opt/conda\r\n",
      "KAGGLE_DATA_PROXY_TOKEN=eyJhbGciOiJBMTI4S1ciLCJlbmMiOiJBMTI4Q0JDLUhTMjU2In0.h0KTQlpDObC2I62MZmDD7KBr-088PjjJ8766FEuLaTUSjkGC018E9w.fsyuiyJd6cJp0PNngW6bDg.OGrcK_FE-Ly_x0sF7p3JveJ1dpEXkvvVFJrOXjuQhehWwOm87bI5ou5wRg9S9WO5meTUc3Q6dBc62D1RiSNXbal3JPuMlVhBFOpPHC9BQkd2-3a9B_yJszZplSySsIK-Hbit74SNc8un2ApiAKW6-uvjIsHXsUA4ahfxzbpM66z9k8ZFzyLUnPq0Dg8xztbVuw-d3YCncyUeJkZ8RF8Gj7rbZULL4cyRV02ps0gq7gMLIU0kUFdTlB2KOZtWJqs1.Fb3o9vJ3cgQu2wDkTNsv8w\r\n",
      "NVIDIA_REQUIRE_CUDA=cuda>=11.0 brand=tesla,driver>=418,driver<419\r\n",
      "NV_LIBCUBLAS_DEV_PACKAGE=libcublas-dev-11-0=11.2.0.252-1\r\n",
      "NV_NVTX_VERSION=11.0.167-1\r\n",
      "NV_CUDA_CUDART_DEV_VERSION=11.0.221-1\r\n",
      "NV_LIBCUSPARSE_VERSION=11.1.1.245-1\r\n",
      "KAGGLE_URL_BASE=https://www.kaggle.com\r\n",
      "NV_LIBNPP_VERSION=11.1.0.245-1\r\n",
      "NCCL_VERSION=2.12.10-1\r\n",
      "KAGGLE_DOCKER_IMAGE=gcr.io/kaggle-gpu-images/python@sha256:c75700eb2ebadc2512e3da6d394c0bb3e0fc8c8cd3598e6b3f94c6873e7a5dca\r\n",
      "KAGGLE_KERNEL_INTEGRATIONS=\r\n",
      "CONTAINER_NAME=tf2-gpu/2-6+cu110\r\n",
      "PWD=/kaggle/working\r\n",
      "TESSERACT_PATH=/usr/bin/tesseract\r\n",
      "TENSORFLOW_VERSION=2.6.4\r\n",
      "NV_CUDNN_PACKAGE=libcudnn8=8.0.5.39-1+cuda11.0\r\n",
      "NVIDIA_DRIVER_CAPABILITIES=compute,utility\r\n",
      "NV_NVPROF_DEV_PACKAGE=cuda-nvprof-11-0=11.0.221-1\r\n",
      "NV_LIBNPP_PACKAGE=libnpp-11-0=11.1.0.245-1\r\n",
      "BUILD_DATE=20221018-223353\r\n",
      "NV_LIBNCCL_DEV_PACKAGE_NAME=libnccl-dev\r\n",
      "_=/usr/bin/env\r\n",
      "NV_LIBCUBLAS_DEV_VERSION=11.2.0.252-1\r\n",
      "NV_LIBCUBLAS_DEV_PACKAGE_NAME=libcublas-dev-11-0\r\n",
      "NV_CUDA_CUDART_VERSION=11.0.221-1\r\n",
      "HOME=/root\r\n",
      "LANG=C.UTF-8\r\n",
      "CUDA_VERSION=11.0.3\r\n",
      "NV_LIBCUBLAS_PACKAGE=libcublas-11-0=11.2.0.252-1\r\n",
      "KMP_SETTINGS=false\r\n",
      "PYDEVD_USE_FRAME_EVAL=NO\r\n",
      "CLICOLOR=1\r\n",
      "NV_LIBNPP_DEV_PACKAGE=libnpp-dev-11-0=11.1.0.245-1\r\n",
      "CONTAINER_URL=us-docker.pkg.dev/deeplearning-platform-release/gcr.io/tf-gpu.2-6:nightly-2022-07-01\r\n",
      "NV_LIBCUBLAS_PACKAGE_NAME=libcublas-11-0\r\n",
      "NV_LIBNPP_DEV_VERSION=11.1.0.245-1\r\n",
      "JPY_PARENT_PID=9\r\n",
      "LD_LIBRARY_PATH_NO_STUBS=/usr/local/cuda/lib64:/usr/local/cuda/lib:/usr/local/lib/x86_64-linux-gnu:/usr/local/nvidia/lib:/usr/local/nvidia/lib64:/usr/local/cuda/lib64:/usr/local/cuda/lib:/usr/local/lib/x86_64-linux-gnu:/usr/local/nvidia/lib:/usr/local/nvidia/lib64:/usr/local/nvidia/lib:/usr/local/nvidia/lib64\r\n",
      "ANACONDA_PYTHON_VERSION=3.7\r\n",
      "PYTHONPATH=/kaggle/lib/kagglegym:/kaggle/lib\r\n",
      "TERM=xterm-color\r\n",
      "NV_LIBCUSPARSE_DEV_VERSION=11.1.1.245-1\r\n",
      "KAGGLE_DATA_PROXY_PROJECT=kaggle-161607\r\n",
      "GIT_PAGER=cat\r\n",
      "KAGGLE_USER_SECRETS_TOKEN=eyJhbGciOiJkaXIiLCJlbmMiOiJBMTI4Q0JDLUhTMjU2In0.._p35L0-_3GxQw_Lg3REMyQ.AmG0wQFd_w8ZJ2eXu1Bsvxtlb67zhfCyPYvRCk17XJP8VjvbkyHIoR4H8WteB5tcMo1-USo_YarDdLkccTnoVUiieciAaSbBl1Bvv5RZ2ZBWxXXtbiXQo32S_MpcAPmf4A5zffsAYYTL5p7zj6ZLoA.4rHwgKHeKdo-uqz_KYyf4w\r\n",
      "LIBRARY_PATH=/usr/local/cuda/lib64/stubs\r\n",
      "NV_CUDNN_VERSION=8.0.5.39\r\n",
      "SHLVL=1\r\n",
      "PAGER=cat\r\n",
      "NV_CUDA_LIB_VERSION=11.0.3-1\r\n",
      "NVARCH=x86_64\r\n",
      "KAGGLE_KERNEL_RUN_TYPE=Batch\r\n",
      "PROJ_LIB=/opt/conda/share/proj\r\n",
      "NV_CUDNN_PACKAGE_DEV=libcudnn8-dev=8.0.5.39-1+cuda11.0\r\n",
      "NV_CUDA_COMPAT_PACKAGE=cuda-compat-11-0\r\n",
      "MPLBACKEND=agg\r\n",
      "NV_LIBNCCL_PACKAGE=libnccl2=2.12.10-1+cuda11.0\r\n",
      "LD_LIBRARY_PATH=/usr/local/cuda/lib64:/usr/local/cuda/lib:/usr/local/lib/x86_64-linux-gnu:/usr/local/nvidia/lib:/usr/local/nvidia/lib64:/usr/local/cuda/lib64:/usr/local/cuda/lib:/usr/local/lib/x86_64-linux-gnu:/usr/local/nvidia/lib:/usr/local/nvidia/lib64:/usr/local/nvidia/lib:/usr/local/nvidia/lib64\r\n",
      "MKL_THREADING_LAYER=GNU\r\n",
      "CUDA_MAJOR_VERSION=11\r\n",
      "GIT_COMMIT=151771375b51fe5e347072e93434e0040cfa5f81\r\n",
      "NV_NVPROF_VERSION=11.0.221-1\r\n",
      "LC_ALL=C.UTF-8\r\n",
      "KAGGLE_CONTAINER_NAME=kaggle_WpphJdchaiOu1LkbkivypxSdkz19mnratXtWAauG0-112192038-webtier\r\n",
      "PATH=/opt/bin:/opt/conda/bin:/usr/local/nvidia/bin:/usr/local/cuda/bin:/usr/local/sbin:/usr/local/bin:/usr/sbin:/usr/bin:/sbin:/bin\r\n",
      "PYTHONUSERBASE=/root/.local\r\n",
      "NV_LIBNCCL_PACKAGE_NAME=libnccl2\r\n",
      "NV_LIBNCCL_PACKAGE_VERSION=2.12.10-1\r\n",
      "OLDPWD=/kaggle/working\r\n",
      "KAGGLE_DATA_PROXY_URL=https://dp.kaggle.net\r\n"
     ]
    }
   ],
   "source": [
    "!env"
   ]
  },
  {
   "cell_type": "code",
   "execution_count": 12,
   "id": "15b5e052",
   "metadata": {
    "execution": {
     "iopub.execute_input": "2022-11-27T06:33:47.590741Z",
     "iopub.status.busy": "2022-11-27T06:33:47.589540Z",
     "iopub.status.idle": "2022-11-27T06:33:48.574944Z",
     "shell.execute_reply": "2022-11-27T06:33:48.573658Z"
    },
    "papermill": {
     "duration": 1.346191,
     "end_time": "2022-11-27T06:33:48.577704",
     "exception": false,
     "start_time": "2022-11-27T06:33:47.231513",
     "status": "completed"
    },
    "tags": []
   },
   "outputs": [],
   "source": [
    "!export PYTHONPATH="
   ]
  },
  {
   "cell_type": "code",
   "execution_count": 13,
   "id": "fd174f69",
   "metadata": {
    "execution": {
     "iopub.execute_input": "2022-11-27T06:33:49.266900Z",
     "iopub.status.busy": "2022-11-27T06:33:49.266491Z",
     "iopub.status.idle": "2022-11-27T06:33:50.290559Z",
     "shell.execute_reply": "2022-11-27T06:33:50.289236Z"
    },
    "papermill": {
     "duration": 1.374841,
     "end_time": "2022-11-27T06:33:50.293199",
     "exception": false,
     "start_time": "2022-11-27T06:33:48.918358",
     "status": "completed"
    },
    "tags": []
   },
   "outputs": [
    {
     "name": "stdout",
     "output_type": "stream",
     "text": [
      "ls: cannot access '/kaggle/lib/kagglegym': No such file or directory\r\n"
     ]
    }
   ],
   "source": [
    "!ls -l /kaggle/lib/kagglegym"
   ]
  },
  {
   "cell_type": "markdown",
   "id": "dce600ea",
   "metadata": {
    "papermill": {
     "duration": 0.350495,
     "end_time": "2022-11-27T06:33:51.078525",
     "exception": false,
     "start_time": "2022-11-27T06:33:50.728030",
     "status": "completed"
    },
    "tags": []
   },
   "source": []
  },
  {
   "cell_type": "code",
   "execution_count": 14,
   "id": "4be5258d",
   "metadata": {
    "execution": {
     "iopub.execute_input": "2022-11-27T06:33:51.773460Z",
     "iopub.status.busy": "2022-11-27T06:33:51.771875Z",
     "iopub.status.idle": "2022-11-27T06:33:52.778898Z",
     "shell.execute_reply": "2022-11-27T06:33:52.777711Z"
    },
    "papermill": {
     "duration": 1.357266,
     "end_time": "2022-11-27T06:33:52.781356",
     "exception": false,
     "start_time": "2022-11-27T06:33:51.424090",
     "status": "completed"
    },
    "tags": []
   },
   "outputs": [
    {
     "name": "stdout",
     "output_type": "stream",
     "text": [
      "total 4\r\n",
      "---------- 1 root root 24 Nov 27 06:29 gcp.py\r\n"
     ]
    }
   ],
   "source": [
    "!ls -l /kaggle/lib/kaggle"
   ]
  }
 ],
 "metadata": {
  "kernelspec": {
   "display_name": "Python 3",
   "language": "python",
   "name": "python3"
  },
  "language_info": {
   "codemirror_mode": {
    "name": "ipython",
    "version": 3
   },
   "file_extension": ".py",
   "mimetype": "text/x-python",
   "name": "python",
   "nbconvert_exporter": "python",
   "pygments_lexer": "ipython3",
   "version": "3.7.12"
  },
  "papermill": {
   "default_parameters": {},
   "duration": 268.671608,
   "end_time": "2022-11-27T06:33:53.752888",
   "environment_variables": {},
   "exception": null,
   "input_path": "__notebook__.ipynb",
   "output_path": "__notebook__.ipynb",
   "parameters": {},
   "start_time": "2022-11-27T06:29:25.081280",
   "version": "2.3.4"
  }
 },
 "nbformat": 4,
 "nbformat_minor": 5
}
